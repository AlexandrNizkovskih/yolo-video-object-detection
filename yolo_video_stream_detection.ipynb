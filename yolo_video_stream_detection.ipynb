{
  "nbformat": 4,
  "nbformat_minor": 0,
  "metadata": {
    "colab": {
      "provenance": [],
      "toc_visible": true,
      "gpuType": "T4"
    },
    "kernelspec": {
      "name": "python3",
      "display_name": "Python 3"
    },
    "language_info": {
      "name": "python"
    },
    "accelerator": "GPU"
  },
  "cells": [
    {
      "cell_type": "markdown",
      "source": [
        "# Детекция объектов в видеопотоке с помощью YOLO: анализ производительности и оптимизация"
      ],
      "metadata": {
        "id": "0pelGJD6qxI0"
      }
    },
    {
      "cell_type": "markdown",
      "source": [
        "###Краткая аннотация"
      ],
      "metadata": {
        "id": "UioncdZOq7a7"
      }
    },
    {
      "cell_type": "markdown",
      "source": [
        "В данной работе исследуется использование моделей YOLO для детекции объектов в видеопотоке. Были проведены показательные эксперименты, включающие инференс базовых моделей (YOLOv3, YOLOv5, YOLOv8, YOLOv11) в интерфейсе **FiftyOne** с выводом метрик точности: **precision**, **recall**, **f1-score**, **support**, а также средние значения (**micro/macro/weighted avg**).\n",
        "\n",
        "Далее модели были улучшены за счет применения **пакетной обработки** и **FP16**, что позволило сравнить их производительность по времени инференса и FPS. Полученные результаты подчеркивают возможности оптимизации и анализа производительности для задач реального времени.\n"
      ],
      "metadata": {
        "id": "QaMc1TubvtUq"
      }
    },
    {
      "cell_type": "markdown",
      "source": [
        "##2. УСТАНОВКА И ИМПОРТ БИБЛИОТЕК"
      ],
      "metadata": {
        "id": "R23KYMSCq_M7"
      }
    },
    {
      "cell_type": "code",
      "source": [
        "!pip install -U ultralytics fiftyone> /dev/null 2>&1"
      ],
      "metadata": {
        "id": "D6e3XcsgrA5B"
      },
      "execution_count": null,
      "outputs": []
    },
    {
      "cell_type": "code",
      "source": [
        "import gdown\n",
        "import os\n",
        "from ultralytics import YOLO\n",
        "import cv2\n",
        "import os\n",
        "import time\n",
        "import fiftyone as fo\n",
        "import fiftyone.utils.yolo as fouy\n",
        "from PIL import Image\n",
        "from tqdm import tqdm\n",
        "import subprocess\n",
        "import numpy as np\n",
        "from tabulate import tabulate"
      ],
      "metadata": {
        "id": "qZ4CpEQLrD3D"
      },
      "execution_count": null,
      "outputs": []
    },
    {
      "cell_type": "markdown",
      "source": [
        "##ТЕОРЕТИЧЕСКАЯ ЧАСТЬ"
      ],
      "metadata": {
        "id": "yWXkiyf2rFXX"
      }
    },
    {
      "cell_type": "markdown",
      "source": [
        "###Краткое описание проблемы"
      ],
      "metadata": {
        "id": "tlG65q_TrJ83"
      }
    },
    {
      "cell_type": "markdown",
      "source": [
        "Детекция объектов в видеопотоке является одной из ключевых задач компьютерного зрения. Она широко применяется в реальных сценариях, таких как:\n",
        "\n",
        "- Системы видеонаблюдения\n",
        "- Управление автономными транспортными средствами\n",
        "- Мониторинг производства\n",
        "- Анализ окружающей среды\n",
        "\n",
        "Основной вызов заключается в обеспечении **высокой производительности алгоритмов**, что особенно важно в условиях:\n",
        "\n",
        "- Ограниченных вычислительных ресурсов\n",
        "- Необходимости обработки данных в **реальном времени**"
      ],
      "metadata": {
        "id": "WcUBQXT1waVp"
      }
    },
    {
      "cell_type": "markdown",
      "source": [
        "###Основные концепции"
      ],
      "metadata": {
        "id": "xICtlTzBrMSb"
      }
    },
    {
      "cell_type": "markdown",
      "source": [
        "Для успешного выполнения задач детекции объектов в видеопотоке важно понимать ключевые аспекты технологии, которые обеспечивают её эффективность и производительность. В данном разделе представлены основные концепции, лежащие в основе этой работы:\n",
        "\n",
        "- **YOLO (You Only Look Once):**  \n",
        "  Это высокоэффективный алгоритм для детекции объектов, который одновременно выполняет их идентификацию и локализацию. Главная особенность YOLO — способность обрабатывать изображения за один проход через сеть, что обеспечивает невероятную скорость работы, необходимую для задач реального времени.\n",
        "\n",
        "- **Пакетная обработка:**  \n",
        "  Технология, позволяющая обрабатывать сразу несколько кадров одновременно. Такой подход значительно снижает общее время инференса, что делает его идеальным для работы с видеопотоками высокой частоты.\n",
        "\n",
        "- **FP16 (Half Precision):**  \n",
        "  Метод оптимизации вычислений, при котором данные представляются с половинной точностью. Это позволяет ускорить вычисления на GPU, минимизируя при этом потери точности, что особенно важно для задач, требующих высокой производительности.\n",
        "\n",
        "- **FiftyOne:**  \n",
        "  Мощный инструмент для визуализации и анализа данных. FiftyOne упрощает процесс оценки качества работы моделей, предоставляя удобный интерфейс для работы с результатами инференса на изображениях и видео.\n",
        "\n",
        "Эти концепции составляют основу для эффективного применения технологий детекции объектов, что подчёркивает их значимость для работы в режиме реального времени."
      ],
      "metadata": {
        "id": "xzS02Nq5xCal"
      }
    },
    {
      "cell_type": "markdown",
      "source": [
        "###Математическое обоснование"
      ],
      "metadata": {
        "id": "yvpqaO2DrOL2"
      }
    },
    {
      "cell_type": "markdown",
      "source": [
        "Детекция объектов в видеопотоке основывается на решении задачи регрессии и классификации. Модели YOLO представляют собой одностадийные детекторы, где обработка изображения осуществляется с использованием следующих ключевых подходов:\n",
        "\n",
        "- **Разделение изображения на сетку:**  \n",
        "  Изображение разбивается на равномерную сетку, где каждая ячейка отвечает за обнаружение объектов, центр которых находится в её пределах. Этот подход позволяет моделям обрабатывать несколько объектов одновременно.\n",
        "\n",
        "- **Регрессия ограничивающих рамок:**  \n",
        "  Для каждого объекта модель предсказывает параметры ограничивающей рамки:\n",
        "  - Координаты центра рамки (**x, y**)\n",
        "  - Размеры рамки (**w, h**)  \n",
        "  Эти параметры нормализуются относительно размеров изображения, что обеспечивает универсальность модели для работы с разными масштабами данных.\n",
        "\n",
        "- **Классификация объектов:**  \n",
        "  Каждый предсказанный бокс содержит вероятность принадлежности объекта определённому классу. Для окончательного предсказания используется произведение вероятности наличия объекта и его принадлежности к классу.\n",
        "\n",
        "Метрики оценки модели\n",
        "\n",
        "- **Точность (Precision):** Определяет, какая доля обнаруженных объектов действительно относится к соответствующему классу.\n",
        "- **Полнота (Recall):** Показывает, какая доля реальных объектов была корректно обнаружена.\n",
        "- **F1-Score:** Комплексная метрика, которая сбалансированно учитывает точность и полноту.\n",
        "- **Средние значения (Macro, Micro, Weighted):** Позволяют обобщить результаты по всем классам, учитывая их дисбаланс.\n",
        "\n",
        "Эти подходы формируют математическую основу детекции объектов, обеспечивая моделям YOLO высокую производительность и универсальность для задач реального времени."
      ],
      "metadata": {
        "id": "dfQK5AgwzSkZ"
      }
    },
    {
      "cell_type": "markdown",
      "source": [
        "###Схема архитектуры"
      ],
      "metadata": {
        "id": "IK0yosERrPx5"
      }
    },
    {
      "cell_type": "markdown",
      "source": [
        "Модели семейства YOLO (YOLOv3, YOLOv5, YOLOv8 и YOLOv11), используемые в работе, имеют схожие архитектурные принципы с некоторыми различиями в деталях. Общая структура состоит из следующих ключевых компонентов:\n",
        "\n",
        "- **Входной слой:**  \n",
        "  - Обрабатывает входное изображение фиксированного размера (обычно 416×416 или 640×640).  \n",
        "  - Нормализует пиксельные значения для облегчения обучения модели.\n",
        "\n",
        "- **Сеть экстракции признаков:**  \n",
        "  - Использует сверточные слои (**Convolutional Layers**) для выделения пространственных и контекстных признаков из изображения.  \n",
        "  - Более поздние версии (YOLOv5, YOLOv8) включают улучшенные механизмы, такие как **CSP-блоки** и улучшенные соединения (**Skip Connections**).\n",
        "\n",
        "- **Сеточная структура выходов:**  \n",
        "  - Разбивает изображение на равномерную сетку (например, 13×13, 26×26 и 52×52).  \n",
        "  - В каждой ячейке предсказывает:  \n",
        "    - Ограничивающие рамки (**Bounding Boxes**)  \n",
        "    - Вероятность объекта  \n",
        "    - Принадлежность к классу\n",
        "\n",
        "- **Головная часть (Head):**  \n",
        "  - Обрабатывает признаки, полученные из сети экстракции, для генерации финальных предсказаний.  \n",
        "  - Выходные данные включают:  \n",
        "    - Координаты боксов (**x, y, w, h**)  \n",
        "    - Вероятность объекта  \n",
        "    - Распределение классов\n",
        "\n",
        "- **Оптимизации производительности:**  \n",
        "  - YOLOv5 и выше используют пакетную обработку и возможность вычислений в **FP16** для повышения скорости работы.\n",
        "\n",
        "- **Механизм не максимального подавления (Non-Maximum Suppression):**  \n",
        "  - Удаляет избыточные рамки, оставляя только те, которые имеют наибольшую вероятность для каждого объекта.\n",
        "\n",
        "Хотя архитектурные принципы схожи, каждая версия YOLO вносит улучшения, направленные на повышение точности и скорости. Эти различия учитывались при проведении экспериментов."
      ],
      "metadata": {
        "id": "MA7qzNg0z0jK"
      }
    },
    {
      "cell_type": "markdown",
      "source": [
        "##4. ПОДГОТОВКА ДАННЫХ"
      ],
      "metadata": {
        "id": "FHxGF_4CrRwp"
      }
    },
    {
      "cell_type": "markdown",
      "source": [
        "Для выполнения экспериментов был выбран тестовый набор данных VisDrone2019-VID. Этот датасет включает видеопотоки и аннотации, необходимые для детекции объектов. Данные были загружены из удалённого хранилища и распакованы в локальную директорию. Использовалась следующая последовательность действий:"
      ],
      "metadata": {
        "id": "vz4cVPO02EgE"
      }
    },
    {
      "cell_type": "markdown",
      "source": [
        "###Загрузка датасета"
      ],
      "metadata": {
        "id": "2iUhJaq7rTRX"
      }
    },
    {
      "cell_type": "markdown",
      "source": [
        "Загрузка архива с данными:\n",
        "\n",
        "Использован инструмент gdown для скачивания файла с Google Drive по идентификатору"
      ],
      "metadata": {
        "id": "DR2yIeW62wFV"
      }
    },
    {
      "cell_type": "code",
      "source": [
        "file_id = \"1230efb28xUv-C7uQC5Q6bW8DWYUcaJ8R\"\n",
        "output = \"VisDrone2019-VID-test.zip\"\n",
        "gdown.download(f\"https://drive.google.com/uc?id={file_id}\", output, quiet=False)"
      ],
      "metadata": {
        "id": "EpVsK6uErUQF"
      },
      "execution_count": null,
      "outputs": []
    },
    {
      "cell_type": "markdown",
      "source": [
        "Распаковка архива:\n",
        "\n",
        "Файл распаковывался с использованием стандартных утилит командной строки:"
      ],
      "metadata": {
        "id": "UhtnKYth2zV9"
      }
    },
    {
      "cell_type": "code",
      "source": [
        "!unzip VisDrone2019-VID-test.zip -d ./> /dev/null 2>&1"
      ],
      "metadata": {
        "id": "e8PyiCP52TfL"
      },
      "execution_count": null,
      "outputs": []
    },
    {
      "cell_type": "markdown",
      "source": [
        "Инициализация путей:\n",
        "\n",
        "Указаны пути к изображениям, аннотациям и выходной директории для преобразования данных:"
      ],
      "metadata": {
        "id": "_WruWDPm22a6"
      }
    },
    {
      "cell_type": "code",
      "source": [
        "images_dir = \"./VisDrone2019-VID-test-dev/sequences/uav0000077_00720_v\"\n",
        "annotation_file = \"./VisDrone2019-VID-test-dev/annotations/uav0000077_00720_v.txt\"\n",
        "labels_dir = \"./VisDrone2019-VID-test-dev/annotations_yolo\""
      ],
      "metadata": {
        "id": "l1ZmclEb2U-c"
      },
      "execution_count": null,
      "outputs": []
    },
    {
      "cell_type": "markdown",
      "source": [
        "###Предобработка"
      ],
      "metadata": {
        "id": "kIbhnhDwrU7a"
      }
    },
    {
      "cell_type": "markdown",
      "source": [
        "Для подготовки данных к инференсу выполнена конвертация исходных аннотаций в формат YOLO и создание видеопотока из изображений. Основные этапы предобработки включают:"
      ],
      "metadata": {
        "id": "h_oWkTSZ3UDC"
      }
    },
    {
      "cell_type": "markdown",
      "source": [
        "Конвертация аннотаций в YOLO:\n",
        "\n",
        "Исходные аннотации VisDrone были преобразованы для использования в модели YOLO. Для этого была разработана функция:"
      ],
      "metadata": {
        "id": "GpCDg6Na3V5u"
      }
    },
    {
      "cell_type": "code",
      "source": [
        "def convert_folder_to_yolo(images_dir, annotation_file, labels_dir):\n",
        "    \"\"\"\n",
        "    Конвертирует аннотации из исходного формата VisDrone в YOLO.\n",
        "\n",
        "    Args:\n",
        "        images_dir (str): Путь к папке с изображениями.\n",
        "        annotation_file (str): Путь к файлу исходных аннотаций VisDrone.\n",
        "        labels_dir (str): Путь для сохранения аннотаций YOLO.\n",
        "    \"\"\"\n",
        "    os.makedirs(labels_dir, exist_ok=True)\n",
        "\n",
        "    # Список классов VisDrone скорректированый для YOLO\n",
        "    class_names = [\n",
        "        \"ignored_region\", \"person\", \"person\", \"bicycle\", \"car\", \"car\",\n",
        "        \"truck\", \"tricycle\", \"awning_tricycle\", \"bus\", \"motor\", \"others\"\n",
        "    ]\n",
        "\n",
        "    def convert_box(size, box):\n",
        "        dw = 1. / size[0]\n",
        "        dh = 1. / size[1]\n",
        "        return (box[0] + box[2] / 2) * dw, (box[1] + box[3] / 2) * dh, box[2] * dw, box[3] * dh\n",
        "\n",
        "    with open(annotation_file, 'r') as f:\n",
        "        all_rows = [x.split(',') for x in f.read().strip().splitlines()]\n",
        "\n",
        "    for image_file in sorted(os.listdir(images_dir)):\n",
        "        if not image_file.endswith('.jpg'):\n",
        "            continue\n",
        "\n",
        "        image_path = os.path.join(images_dir, image_file)\n",
        "        output_file = os.path.join(labels_dir, image_file.replace('.jpg', '.txt'))\n",
        "\n",
        "        img_size = Image.open(image_path).size\n",
        "        frame_id = int(os.path.splitext(image_file)[0])\n",
        "\n",
        "        lines = []\n",
        "        for row in all_rows:\n",
        "            if int(row[0]) != frame_id or int(row[-1]) == 1:  # Пропуск \"ignored regions\" - это области, не использущиеся для детекции.\n",
        "                continue\n",
        "\n",
        "            cls_idx = int(row[7])  # Индекс класса\n",
        "            cls_name = class_names[cls_idx] if cls_idx < len(class_names) else f\"class_{cls_idx}\"\n",
        "            xmin, ymin, width, height = map(int, row[2:6])\n",
        "            box = convert_box(img_size, (xmin, ymin, width, height)) # координаты преобразуются из абсолютных значений в нормализованные (YOLO-формат).\n",
        "            lines.append(f\"{cls_name} {' '.join(f'{x:.6f}' for x in box)}\\n\")\n",
        "\n",
        "        if lines:\n",
        "            with open(output_file, 'w') as fl:\n",
        "                fl.writelines(lines)"
      ],
      "metadata": {
        "id": "mQ2mTKwOrbnM"
      },
      "execution_count": null,
      "outputs": []
    },
    {
      "cell_type": "code",
      "source": [
        "convert_folder_to_yolo(images_dir, annotation_file, labels_dir)"
      ],
      "metadata": {
        "id": "OFUYLiSn2YoT"
      },
      "execution_count": null,
      "outputs": []
    },
    {
      "cell_type": "markdown",
      "source": [
        "Создание видеопотока:\n",
        "\n",
        "Для удобства анализа и визуализации данных был создан видеопоток из последовательности изображений с использованием следующей функции:"
      ],
      "metadata": {
        "id": "_PClQYmQ3bHe"
      }
    },
    {
      "cell_type": "code",
      "source": [
        "def create_video_in_h264(images_dir, output_video):\n",
        "    \"\"\"\n",
        "    Создаёт видео в формате H.264 из изображений.\n",
        "\n",
        "    Args:\n",
        "        images_dir (str): Путь к папке с изображениями.\n",
        "        output_video (str): Имя выходного видео.\n",
        "    \"\"\"\n",
        "    import cv2\n",
        "    import os\n",
        "    import subprocess\n",
        "\n",
        "    image_files = sorted([f for f in os.listdir(images_dir) if f.endswith('.jpg')])\n",
        "    if not image_files:\n",
        "        print(\"No images found in the directory.\")\n",
        "        return\n",
        "\n",
        "    first_image = cv2.imread(os.path.join(images_dir, image_files[0]))\n",
        "    height, width, _ = first_image.shape\n",
        "\n",
        "    temp_video = \"temp_output.mp4\"\n",
        "    fourcc = cv2.VideoWriter_fourcc(*'mp4v')\n",
        "    out = cv2.VideoWriter(temp_video, fourcc, 30, (width, height)) # Создаётся временный видеопоток для преобразования в H.264.\n",
        "\n",
        "    for image_file in image_files:\n",
        "        frame = cv2.imread(os.path.join(images_dir, image_file))\n",
        "        out.write(frame)\n",
        "\n",
        "    out.release()\n",
        "\n",
        "    # Перекодирование в H.264\n",
        "    cmd = [\n",
        "        \"ffmpeg\", \"-y\", \"-i\", temp_video,\n",
        "        \"-vcodec\", \"libx264\", \"-pix_fmt\", \"yuv420p\", \"-movflags\", \"faststart\",\n",
        "        \"-acodec\", \"aac\", output_video\n",
        "    ]\n",
        "    try:\n",
        "        subprocess.run(cmd, check=True) # Ffmpeg используется для перекодирования видео в более совместимый формат H.264.\n",
        "        print(f\"Видео успешно создано: {output_video}\")\n",
        "        os.remove(temp_video)\n",
        "    except subprocess.CalledProcessError as e:\n",
        "        print(f\"Ошибка при создании видео: {e.stderr}\")"
      ],
      "metadata": {
        "id": "m1Y9RDW22as7"
      },
      "execution_count": null,
      "outputs": []
    },
    {
      "cell_type": "code",
      "source": [
        "output_video = \"visdrone_h264.mp4\"\n",
        "create_video_in_h264(images_dir, output_video)"
      ],
      "metadata": {
        "id": "g8QpcC3g2cYP"
      },
      "execution_count": null,
      "outputs": []
    },
    {
      "cell_type": "markdown",
      "source": [
        "###Визуализация данных"
      ],
      "metadata": {
        "id": "fOLz-0mNrb9j"
      }
    },
    {
      "cell_type": "markdown",
      "source": [
        "Для визуализации данных и анализа аннотаций был использован инструмент FiftyOne. В нём можно вопроизвести видео с интерактивными аннотациями"
      ],
      "metadata": {
        "id": "QOa8Rco63ykG"
      }
    },
    {
      "cell_type": "code",
      "source": [
        "dataset_name = \"visdrone_video_with_annotations\"\n",
        "if dataset_name in fo.list_datasets():\n",
        "    fo.delete_dataset(dataset_name)\n",
        "\n",
        "dataset = fo.Dataset(dataset_name)\n",
        "sample = fo.Sample(filepath=output_video)\n",
        "\n",
        "frame_annotations = []\n",
        "for annotation_file in sorted(os.listdir(labels_dir)):\n",
        "    if annotation_file.endswith('.txt'):\n",
        "        frame_detections = []\n",
        "        with open(os.path.join(labels_dir, annotation_file), 'r') as f:\n",
        "            for line in f:\n",
        "                fields = line.strip().split()\n",
        "                cls_name = fields[0]\n",
        "                x_center, y_center, bbox_width, bbox_height = map(float, fields[1:])\n",
        "                bounding_box = [\n",
        "                    x_center - bbox_width / 2,\n",
        "                    y_center - bbox_height / 2,\n",
        "                    bbox_width,\n",
        "                    bbox_height,\n",
        "                ]\n",
        "                frame_detections.append(fo.Detection(label=cls_name, bounding_box=bounding_box))\n",
        "\n",
        "        frame_annotations.append(fo.Detections(detections=frame_detections))\n",
        "\n",
        "sample[\"frames\"] = {\n",
        "    idx + 1: {\"ground_truth\": frame_annotations[idx]} for idx in range(len(frame_annotations))\n",
        "}\n",
        "dataset.add_sample(sample)"
      ],
      "metadata": {
        "id": "Eg2Eq3nqreZr"
      },
      "execution_count": null,
      "outputs": []
    },
    {
      "cell_type": "code",
      "source": [
        "session = fo.launch_app(dataset)"
      ],
      "metadata": {
        "id": "gaVDf6DD38Wg"
      },
      "execution_count": null,
      "outputs": []
    },
    {
      "cell_type": "markdown",
      "source": [
        "##Выполнение инференса и оценка моделей"
      ],
      "metadata": {
        "id": "-6H-MNxgre55"
      }
    },
    {
      "cell_type": "markdown",
      "source": [
        "Были загружены предобученные модели YOLO различных версий.\n",
        "\n",
        "Каждая модель была применена к данным с использованием метода apply_model, который добавляет предсказания в соответствующее поле датасета:"
      ],
      "metadata": {
        "id": "K0gqhc734m4L"
      }
    },
    {
      "cell_type": "code",
      "source": [
        "# Загрузка моделей YOLO с настройкой batch size\n",
        "yolov3 = YOLO(\"yolov3.pt\")\n",
        "\n",
        "yolov5 = YOLO(\"yolov5n.pt\")\n",
        "\n",
        "yolov8 = YOLO(\"yolov8n.pt\")\n",
        "\n",
        "yolov11 = YOLO(\"yolo11n.pt\")\n",
        "\n",
        "# Выполнение инференса для каждой модели\n",
        "dataset.apply_model(yolov3, label_field=\"yolov3\")\n",
        "dataset.apply_model(yolov5, label_field=\"yolov5\")\n",
        "dataset.apply_model(yolov8, label_field=\"yolov8\")\n",
        "dataset.apply_model(yolov11, label_field=\"yolov11\")"
      ],
      "metadata": {
        "id": "F93cIMy9rhkB"
      },
      "execution_count": null,
      "outputs": []
    },
    {
      "cell_type": "markdown",
      "source": [
        "Результаты предсказаний добавляются в интерфейс FiftyOne для визуализации. В интерфейсе можно просмотреть предсказанные ограничивающие рамки для объектов, а также метрики, такие как вероятность и класс объекта. Это позволяет сравнить работу различных моделей и оценить их производительность на одном и том же наборе данных."
      ],
      "metadata": {
        "id": "vg3JqU38FnxD"
      }
    },
    {
      "cell_type": "code",
      "source": [
        "session = fo.launch_app(dataset)"
      ],
      "metadata": {
        "id": "pww1LIJu4eCy"
      },
      "execution_count": null,
      "outputs": []
    },
    {
      "cell_type": "markdown",
      "source": [
        "Для каждой модели были рассчитаны метрики точности с использованием встроенного метода evaluate_detections"
      ],
      "metadata": {
        "id": "k0r_XxFq4vE8"
      }
    },
    {
      "cell_type": "code",
      "source": [
        "yolov3_results = dataset.evaluate_detections(\n",
        "    \"frames.yolov3\",\n",
        "    gt_field=\"frames.ground_truth\",\n",
        "    eval_key=\"eval_yolov3\",\n",
        ")\n",
        "\n",
        "yolov5_results = dataset.evaluate_detections(\n",
        "    \"frames.yolov5\",\n",
        "    gt_field=\"frames.ground_truth\",\n",
        "    eval_key=\"eval_yolov5\",\n",
        ")\n",
        "\n",
        "yolov8_results = dataset.evaluate_detections(\n",
        "    \"frames.yolov8\",\n",
        "    gt_field=\"frames.ground_truth\",\n",
        "    eval_key=\"eval_yolov8\",\n",
        ")\n",
        "\n",
        "yolov11_results = dataset.evaluate_detections(\n",
        "    \"frames.yolov11\",\n",
        "    gt_field=\"frames.ground_truth\",\n",
        "    eval_key=\"eval_yolov11\",\n",
        ")"
      ],
      "metadata": {
        "id": "02K6TEBU4hEO"
      },
      "execution_count": null,
      "outputs": []
    },
    {
      "cell_type": "code",
      "source": [
        "counts = dataset.count_values(\"frames.ground_truth.detections.label\")\n",
        "classes_top10 = sorted(counts, key=counts.get, reverse=True)[:10]"
      ],
      "metadata": {
        "id": "voEC4tHg4jKL"
      },
      "execution_count": null,
      "outputs": []
    },
    {
      "cell_type": "markdown",
      "source": [
        "Выполнен подсчет частоты классов в аннотациях, а также вывод отчета по основным метрикам (precision, recall, f1-score) для каждой модели:"
      ],
      "metadata": {
        "id": "J9EM-cac4ylU"
      }
    },
    {
      "cell_type": "code",
      "source": [
        "print(\"Yolov3:\")\n",
        "yolov3_results.print_report(classes_top10)\n",
        "\n",
        "print(\"Yolov5:\")\n",
        "yolov5_results.print_report(classes_top10)\n",
        "\n",
        "print(\"Yolov8:\")\n",
        "yolov8_results.print_report(classes_top10)\n",
        "\n",
        "print(\"Yolov11:\")\n",
        "yolov11_results.print_report(classes_top10)"
      ],
      "metadata": {
        "id": "1JO3BFUv4kN9"
      },
      "execution_count": null,
      "outputs": []
    },
    {
      "cell_type": "markdown",
      "source": [
        "##6. Оценка производительности моделей"
      ],
      "metadata": {
        "id": "S-AF_O5ersV1"
      }
    },
    {
      "cell_type": "markdown",
      "source": [
        "Для анализа производительности различных моделей YOLO были разработаны и использованы тестовые сценарии. Эти сценарии позволили оценить скорость работы моделей при различных условиях.\n",
        "\n",
        "Основные этапы:"
      ],
      "metadata": {
        "id": "0JD9EAgS6ND5"
      }
    },
    {
      "cell_type": "markdown",
      "source": [
        "###Базовое тестирование:"
      ],
      "metadata": {
        "id": "XiHLytxQru4y"
      }
    },
    {
      "cell_type": "markdown",
      "source": [
        "Выполнена оценка времени инференса для отдельных кадров с помощью функции:"
      ],
      "metadata": {
        "id": "AiskxHMa6SEB"
      }
    },
    {
      "cell_type": "code",
      "source": [
        "def bench_model(model, video_path):\n",
        "    \"\"\"\n",
        "    Оценивает производительность модели на одном видео.\n",
        "\n",
        "    Args:\n",
        "        model: Загруженная модель YOLO.\n",
        "        video_path (str): Путь к видеофайлу.\n",
        "\n",
        "    Returns:\n",
        "        dict: Словарь с результатами (FPS и время инференса).\n",
        "    \"\"\"\n",
        "    cap = cv2.VideoCapture(video_path)\n",
        "    inference_times = []\n",
        "\n",
        "    total_frames = 0\n",
        "    start_time = time.time()\n",
        "\n",
        "    while cap.isOpened():\n",
        "        ret, frame = cap.read()\n",
        "        if not ret:\n",
        "            break\n",
        "\n",
        "        # Измерение времени инференса на кадр\n",
        "        frame_start = time.time()\n",
        "        _ = model.predict(source=frame, save=False) # Замеряется время обработки каждого кадра для вычисления производительности.\n",
        "        frame_time = time.time() - frame_start\n",
        "        inference_times.append(frame_time)\n",
        "        total_frames += 1\n",
        "\n",
        "    elapsed_time = time.time() - start_time\n",
        "    cap.release()\n",
        "\n",
        "    avg_inference_time = sum(inference_times) / len(inference_times) if inference_times else 0\n",
        "    fps = total_frames / elapsed_time if elapsed_time > 0 else 0\n",
        "\n",
        "    return {\n",
        "        \"avg_inference_time\": avg_inference_time,\n",
        "        \"fps\": fps\n",
        "    }"
      ],
      "metadata": {
        "id": "lEh2Pyj1rwAQ"
      },
      "execution_count": null,
      "outputs": []
    },
    {
      "cell_type": "markdown",
      "source": [
        "###Оптимизация с использованием пакетной обработки:"
      ],
      "metadata": {
        "id": "iz0T6fFAryL9"
      }
    },
    {
      "cell_type": "markdown",
      "source": [
        "Для ускорения инференса были разработаны функции, позволяющие обрабатывать несколько кадров одновременно:"
      ],
      "metadata": {
        "id": "tyx2iylz6dtT"
      }
    },
    {
      "cell_type": "code",
      "source": [
        "def test_optimized(video_path, ckpt_path, batch_size=16):\n",
        "    \"\"\"\n",
        "    Выполняет пакетную обработку видео с заданной моделью,\n",
        "    а затем передаёт модель для оценки в bench_model.\n",
        "\n",
        "    Args:\n",
        "        video_path (str): Путь к видеофайлу.\n",
        "        ckpt_path (str): Путь к контрольной точке модели.\n",
        "        batch_size (int): Размер пакета для инференса.\n",
        "\n",
        "    Returns:\n",
        "        dict: Результаты тестирования с помощью bench_model.\n",
        "    \"\"\"\n",
        "    model = YOLO(ckpt_path)\n",
        "    cap = cv2.VideoCapture(video_path)\n",
        "    frames = []\n",
        "\n",
        "    while cap.isOpened():\n",
        "        ret, frame = cap.read()\n",
        "        if not ret:\n",
        "            break\n",
        "\n",
        "        frames.append(frame)\n",
        "\n",
        "        # Кадры отправляются на обработку, как только достигается размер пакета.\n",
        "        if len(frames) == batch_size:\n",
        "            # Выполнение пакетного инференса\n",
        "            _ = model.predict(source=frames, save=False)\n",
        "            frames = []\n",
        "\n",
        "    # Обработка оставшихся кадров\n",
        "    if frames:\n",
        "        _ = model.predict(source=frames, save=False)\n",
        "\n",
        "    cap.release()\n",
        "\n",
        "    # Вызываем bench_model для оценки\n",
        "    return bench_model(model, video_path)"
      ],
      "metadata": {
        "id": "bscw_JQ7rzUh"
      },
      "execution_count": null,
      "outputs": []
    },
    {
      "cell_type": "markdown",
      "source": [
        "###Использование FP16 для ускорения на GPU:"
      ],
      "metadata": {
        "id": "QZXmu8f-r0i7"
      }
    },
    {
      "cell_type": "markdown",
      "source": [
        "Применена оптимизация вычислений с использованием формата FP16:"
      ],
      "metadata": {
        "id": "eqMHiBzD6iNg"
      }
    },
    {
      "cell_type": "code",
      "source": [
        "def test_fp16(video_path, ckpt_path):\n",
        "    model = YOLO(ckpt_path)\n",
        "    model.overrides[\"half\"] = True  # Включение FP16 для ускорения на GPU\n",
        "    return bench_model(model, video_path)"
      ],
      "metadata": {
        "id": "V_okv07zr1eY"
      },
      "execution_count": null,
      "outputs": []
    },
    {
      "cell_type": "markdown",
      "source": [
        "###Сравнение результатов:"
      ],
      "metadata": {
        "id": "TnUkkAp-6qQ6"
      }
    },
    {
      "cell_type": "markdown",
      "source": [
        "Для всех моделей (YOLOv3, YOLOv5, YOLOv8, YOLOv11) были проведены тесты, результаты которых включают среднее время обработки одного кадра и количество кадров в секунду (FPS):"
      ],
      "metadata": {
        "id": "kE5HAFOh6sDA"
      }
    },
    {
      "cell_type": "code",
      "source": [
        "def collect_and_display_results(models, video_path, test_functions):\n",
        "    results = []\n",
        "    for model_name, ckpt_path in models.items():\n",
        "        for test_name, test_func in test_functions.items():\n",
        "            print(f\"\\n--- {test_name}: {model_name} ---\")\n",
        "            test_result = test_func(video_path, ckpt_path)\n",
        "            results.append({\n",
        "                \"Model\": model_name,\n",
        "                \"Test Type\": test_name,\n",
        "                \"Average Inference Time (s)\": test_result[\"avg_inference_time\"],\n",
        "                \"FPS\": test_result[\"fps\"]\n",
        "            })\n",
        "\n",
        "    return results"
      ],
      "metadata": {
        "id": "uSjJNhgz6wJv"
      },
      "execution_count": null,
      "outputs": []
    },
    {
      "cell_type": "code",
      "source": [
        "def display_results_table(results):\n",
        "    \"\"\"\n",
        "    Выводит результаты тестирования моделей в виде таблицы.\n",
        "\n",
        "    Args:\n",
        "        results (list): Список словарей с результатами тестирования.\n",
        "    \"\"\"\n",
        "    print(\"\\nРезультаты тестирования:\")\n",
        "    print(tabulate(results, headers=\"keys\", tablefmt=\"grid\"))"
      ],
      "metadata": {
        "id": "TKxOPq8rJ-UT"
      },
      "execution_count": null,
      "outputs": []
    },
    {
      "cell_type": "code",
      "source": [
        "models = {\n",
        "    \"YOLOv3\": \"yolov3.pt\",\n",
        "    \"YOLOv5\": \"yolov5n.pt\",\n",
        "    \"YOLOv8\": \"yolov8n.pt\",\n",
        "    \"YOLOv11\": \"yolo11n.pt\"\n",
        "}"
      ],
      "metadata": {
        "id": "fpro2U7t6yuX"
      },
      "execution_count": null,
      "outputs": []
    },
    {
      "cell_type": "code",
      "source": [
        "test_functions = {\n",
        "    \"Optimized\": lambda video_path, ckpt_path: test_optimized(video_path, ckpt_path, batch_size=16),\n",
        "    \"FP16\": test_fp16,\n",
        "}"
      ],
      "metadata": {
        "id": "sMIUkQKH61aS"
      },
      "execution_count": null,
      "outputs": []
    },
    {
      "cell_type": "code",
      "source": [
        "video_path = \"visdrone_h264.mp4\"\n",
        "results = collect_and_display_results(models, video_path, test_functions)"
      ],
      "metadata": {
        "id": "jD4ggZMF62lH"
      },
      "execution_count": null,
      "outputs": []
    },
    {
      "cell_type": "code",
      "source": [
        "display_results_table(results)"
      ],
      "metadata": {
        "id": "TDSitO7uKGa6"
      },
      "execution_count": null,
      "outputs": []
    },
    {
      "cell_type": "markdown",
      "source": [
        "##8. ВЫВОДЫ"
      ],
      "metadata": {
        "id": "6dLFc8IQsEps"
      }
    },
    {
      "cell_type": "markdown",
      "source": [
        "###Основные результаты"
      ],
      "metadata": {
        "id": "UP22ljSFsGzK"
      }
    },
    {
      "cell_type": "markdown",
      "source": [
        "В ходе экспериментов были получены следующие результаты по производительности различных моделей YOLO при оптимизированных настройках и использовании FP16:"
      ],
      "metadata": {
        "id": "_D9Qq6GM7evg"
      }
    },
    {
      "cell_type": "code",
      "source": [
        "display_results_table(results)"
      ],
      "metadata": {
        "id": "Al-ydDx4Klzv"
      },
      "execution_count": null,
      "outputs": []
    },
    {
      "cell_type": "markdown",
      "source": [
        "YOLOv8 показала наилучший результат в оптимизированном режиме по количеству кадров в секунду, демонстрируя её высокую эффективность в реальном времени.\n",
        "\n",
        "Использование FP16 значительно сократило среднее время инференса для всех моделей, однако FPS незначительно увеличился, что связано с ограничениями пропускной способности GPU.\n",
        "\n",
        "YOLOv5 продемонстрировала высокую производительность как в оптимизированном режиме, так и с использованием FP16, сохраняя баланс между точностью и скоростью."
      ],
      "metadata": {
        "id": "I35x4bub7-Gn"
      }
    },
    {
      "cell_type": "markdown",
      "source": [
        "Эти результаты подчеркивают, что выбор модели зависит от конкретной задачи: приоритет скорости (YOLOv8) или оптимального баланса (YOLOv5)."
      ],
      "metadata": {
        "id": "gjk8ITTk7_-Y"
      }
    },
    {
      "cell_type": "markdown",
      "source": [
        "###Проблемы и ограничения"
      ],
      "metadata": {
        "id": "C9HMsQCzsOob"
      }
    },
    {
      "cell_type": "markdown",
      "source": [
        "Зависимость от оборудования:\n",
        "\n",
        "Высокая производительность моделей, особенно с использованием FP16, напрямую зависит от наличия мощного GPU.\n",
        "\n",
        "Ограничения пропускной способности GPU влияют на увеличение FPS.\n",
        "\n",
        "Оптимизация FP16:\n",
        "\n",
        "Хотя FP16 сокращает время инференса, прирост FPS минимален, что указывает на необходимость дальнейшей оптимизации для задач реального времени.\n",
        "\n",
        "Эти ограничения указывают на возможности для улучшения методик и подходов, используемых в работе."
      ],
      "metadata": {
        "id": "wJXY5lRz8d0V"
      }
    }
  ]
}